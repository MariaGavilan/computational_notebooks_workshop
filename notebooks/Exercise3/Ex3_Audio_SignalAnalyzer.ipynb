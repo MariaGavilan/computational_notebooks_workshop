{
 "cells": [
  {
   "cell_type": "markdown",
   "metadata": {},
   "source": [
    "# Analysis in MATLAB of a music signal generated in Python"
   ]
  },
  {
   "cell_type": "markdown",
   "metadata": {},
   "source": [
    "In this example we will implement a basic digital music synthesizer using a \"song\" generated with numpy in Python, and accessing advanced options in the MATLAB Signal Analyzer App. "
   ]
  },
  {
   "cell_type": "markdown",
   "metadata": {},
   "source": [
    "Let's start by creating our song with Python. The code below generates a simple melody using sine waves to simulate musical notes. We use a sampling frequency of 3000, create a time vector and a frequency mapping, and proceed to generate a chord consisting of three sine waves for each note. Finally, we include melody and accompaniment notes.\n",
    "\n",
    "To construct the song, a loop iterates over each pair of melody and accompaniment notes, generating the corresponding audio signal using the note function. Each note is followed by a short pause (silence) of 0.01 seconds, created using zeros."
   ]
  },
  {
   "cell_type": "code",
   "execution_count": 20,
   "metadata": {},
   "outputs": [],
   "source": [
    "import numpy as np\n",
    "\n",
    "# Sampling frequency\n",
    "fs = 3000\n",
    "\n",
    "# Time vector\n",
    "t = np.arange(0, 0.3, 1/fs)\n",
    "\n",
    "# Frequency mapping\n",
    "fq = np.array([-np.inf] + list(np.arange(-9, 3, 2))) / 12\n",
    "\n",
    "# Note function\n",
    "def note(f, g):\n",
    "    # Ensure indices are within bounds\n",
    "    f_idx = min(max(f - 1, 0), len(fq) - 1)\n",
    "    g_idx = min(max(g - 1, 0), len(fq) - 1)\n",
    "    \n",
    "    # Calculate frequencies\n",
    "    freqs = 440 * 2 ** np.array([fq[g_idx], fq[g_idx], fq[f_idx] + 1])\n",
    "    return np.sum(np.sin(2 * np.pi * freqs[:, np.newaxis] * t), axis=0)\n",
    "\n",
    "# Melody and Accompaniment\n",
    "mel = np.array([5, 3, 1, 3, 5, 5, 5, 0, 3, 3, 3, 0, 5, 8, 8, 0, 5, 3, 1, 3, 5, 5, 5, 5, 3, 3, 5, 3, 1])\n",
    "acc = np.array([5, 0, 8, 0, 5, 0, 5, 5, 3, 0, 3, 3, 5, 0, 8, 8, 5, 0, 8, 0, 5, 5, 5, 0, 3, 3, 5, 0, 1])\n",
    "\n",
    "# Construct the song\n",
    "song = np.array([])\n",
    "for m, a in zip(mel, acc):\n",
    "    song = np.concatenate([song, note(m, a), np.zeros(int(0.01 * fs))])\n",
    "\n",
    "# Normalize the song\n",
    "song = song / (np.max(np.abs(song)) + 0.1)\n",
    "\n",
    "# The song is now a numpy array, which can be saved to a file or played using appropriate libraries.\n",
    "\n"
   ]
  },
  {
   "cell_type": "markdown",
   "metadata": {},
   "source": [
    "## Using MATLAB to perform additional tasks "
   ]
  },
  {
   "cell_type": "markdown",
   "metadata": {},
   "source": [
    "Now we can use MATLAB to do advanced processing of the signal. As part of the Signal Processing Toolbox, you get access to an app called \"Signal Analyzer\" which lets you analyze, preprocess, explore and measure signals, as well as sharing analysis with other members of your team/lab. \n",
    "\n",
    "From Python it's possible to call MATLAB functions and open apps. "
   ]
  },
  {
   "cell_type": "markdown",
   "metadata": {},
   "source": [
    "When you are using the Python kernel in Jupyter and want to use MATLAB, first import and start MATLAB through the MATLAB Engine API."
   ]
  },
  {
   "cell_type": "code",
   "execution_count": 25,
   "metadata": {},
   "outputs": [],
   "source": [
    "import matlab.engine\n",
    "\n",
    "# Alternative 1 IF YOU ARE RUNNING MATLAB IN YOUR LOCAL MACHINE\n",
    "#eng = matlab.engine.start_matlab(\"-desktop\")\n"
   ]
  },
  {
   "cell_type": "markdown",
   "metadata": {},
   "source": [
    "<div class=\"alert alert-block alert-warning\">\n",
    "<b>Note:</b> You can start the MATLAB Engine by simply doing eng = matlab.engine.start_matlab(). However, in order to use the existing MATLAB session running, follow the instructions below and update the engineName before running the next cell. \n",
    "</div>"
   ]
  },
  {
   "cell_type": "code",
   "execution_count": null,
   "metadata": {},
   "outputs": [],
   "source": [
    "# Get the MATLAB Engine session that you can use to connect\n",
    "# In MATLAB command prompt type:\n",
    "#  >> matlab.engine.shareEngine\n",
    "#  >> matlab.engine.engineName\n",
    "# ans =\n",
    "#\n",
    "#    'MATLAB_42516'\n",
    "# MAKE SURE TO UPDATE THIS, OTHERWISE IT WON'T CONNECT\n",
    "\n",
    "eng = matlab.engine.connect_matlab('MATLAB_42516')"
   ]
  },
  {
   "cell_type": "markdown",
   "metadata": {},
   "source": [
    "Do proper datatype conversion so MATLAB can use it:"
   ]
  },
  {
   "cell_type": "code",
   "execution_count": 26,
   "metadata": {},
   "outputs": [
    {
     "data": {
      "text/plain": [
       "matlab.double"
      ]
     },
     "execution_count": 26,
     "metadata": {},
     "output_type": "execute_result"
    }
   ],
   "source": [
    "melody_doub = eng.double(song)\n",
    "\n",
    "type(melody_doub)"
   ]
  },
  {
   "cell_type": "code",
   "execution_count": 27,
   "metadata": {},
   "outputs": [],
   "source": [
    "eng.workspace['melody_workspace'] = melody_doub"
   ]
  },
  {
   "cell_type": "markdown",
   "metadata": {},
   "source": [
    "Call the Signal Analyzer App:"
   ]
  },
  {
   "cell_type": "code",
   "execution_count": 28,
   "metadata": {},
   "outputs": [],
   "source": [
    "eng.signalAnalyzer(eng.workspace['melody_workspace'], nargout=0)"
   ]
  }
 ],
 "metadata": {
  "kernelspec": {
   "display_name": "Python 3",
   "language": "python",
   "name": "python3"
  },
  "language_info": {
   "codemirror_mode": {
    "name": "ipython",
    "version": 3
   },
   "file_extension": ".py",
   "mimetype": "text/x-python",
   "name": "python",
   "nbconvert_exporter": "python",
   "pygments_lexer": "ipython3",
   "version": "3.9.10"
  }
 },
 "nbformat": 4,
 "nbformat_minor": 2
}
