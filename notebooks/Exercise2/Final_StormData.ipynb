{
 "cells": [
  {
   "cell_type": "markdown",
   "id": "e1bcb0e2-ec94-46a3-9fd2-7584e60ac49b",
   "metadata": {},
   "source": [
    "# Explore and Analyze Tornadoes from 2013 using MATLAB in Jupyter\n",
    "\n",
    "## MATLAB in Jupyter\n",
    "\n",
    "Welcome to your first Jupyter Notebook running MATLAB as the kernel.  This means that you can write all commands in the MATLAB language and MATLAB will do the computation for you.  More details on the MATLAB Kernel for Jupyter can be found in this blogpost: https://blogs.mathworks.com/matlab/2023/01/30/official-mathworks-matlab-kernel-for-jupyter-released/ \n",
    "\n",
    "The only difference between this Jupyter notebook and ones you may have used before is that ALL of the code shown here is MATLAB code.  Everything else is **exactly the same** including\n",
    "\n",
    "* How you evaluate cells - Shift+Enter or CTRL+Enter\n",
    "* Double clicking on text cells (such as this one) to edit Markdown\n",
    "\n",
    "## Discussion of our problem\n",
    "\n",
    "Today, we are going to work with historical data from storm events in the United States in 2013. The file includes over 40 different types of storm events, and contain information such as geographic location, date, damage cost in dollars, injuries, deaths, and text descriptions of the storm. \n",
    "\n",
    "There is a lot of missing data. For example, many events affect a large area, so no specific location is provided. As you explore the data, you'll see these represented as `NaN`, which stands for \"not a number.\" Dealing with missing data is an important skill and there is a lot of functionality in MATLAB to help you do so.\n",
    "\n",
    "This script explores the tornado events of 2013. There are many tornadoes in the data set. Nearly all tornado events have information for the location and damage associated with them. This makes tornadoes a great place to start. \n",
    "\n",
    "## Importing the data\n",
    "\n",
    "### Today we'll use a Parquet file\n",
    "\n",
    "The data is stored in the file `StormEvents.parquet` which is an example of a Parquet file. Parquet is in open-source column-oriented data storage format developed and maintained as a part of the Apache Software Foundation and is a great choice for 'Big Data' analysis. \n",
    "\n",
    "You may be more used to dealing with csv (comma separated values) files but the benefits of Parquet files are so great that the first thing I often do when given a .csv file is convert it to .parquet format! Of course, MATLAB has extensive support for CSV files if that's what you need but I wanted to start with a more modern approach today. \n",
    "\n",
    "Disk space alone is a good enough reason to prefer Parquet over csv, the file we will be using today would be 10x bigger if it was a csv file! There are, however many more benefits to using Parquet over .csv and you can read about some of them at https://blogs.mathworks.com/matlab/2023/05/05/working-efficiently-with-data-parquet-files-and-the-needle-in-a-haystack-problem/"
   ]
  },
  {
   "cell_type": "code",
   "execution_count": null,
   "id": "3821a872-2414-41b7-ade5-99aaa1897c78",
   "metadata": {},
   "outputs": [],
   "source": [
    "events = parquetread(\"/workspaces/codespaces-jupyter-matlab-workshop/data/StormEvents.parquet\");"
   ]
  },
  {
   "cell_type": "markdown",
   "id": "c1c9dcd2-f62b-4356-971f-ffb793b89fd4",
   "metadata": {},
   "source": [
    "The `parquetread` file creates a table from the file called `events` which is of size 59,985 rows and 16 columns which we can see for ourselves by running the following commands"
   ]
  },
  {
   "cell_type": "code",
   "execution_count": null,
   "id": "3385650c-56de-4386-a3a7-ce824c467605",
   "metadata": {},
   "outputs": [],
   "source": [
    "class(events)"
   ]
  },
  {
   "cell_type": "code",
   "execution_count": null,
   "id": "a7c1ceb3-171c-4bc4-a411-a9e4127eda65",
   "metadata": {},
   "outputs": [],
   "source": [
    "size(events)"
   ]
  },
  {
   "cell_type": "markdown",
   "id": "9f809013-7afb-4ccd-ad96-c8c48db6908e",
   "metadata": {},
   "source": [
    "Displaying such large tables in the notebook can be problematic, particularly when each row takes up multiple lines, so let's just look at the first 7 columns.  Note that only the first few rows are displayed"
   ]
  },
  {
   "cell_type": "code",
   "execution_count": null,
   "id": "92a5fd3c-a53e-4023-8292-bd16f59bf0b6",
   "metadata": {},
   "outputs": [],
   "source": [
    "events(:,[1:7])"
   ]
  },
  {
   "cell_type": "markdown",
   "id": "c408ec6e-1165-4f17-8857-31a4002c9ea3",
   "metadata": {},
   "source": [
    "The list of column headings can be found as follows"
   ]
  },
  {
   "cell_type": "code",
   "execution_count": null,
   "id": "5e22f692-5859-469f-9a07-f3ecbc1be8d4",
   "metadata": {},
   "outputs": [],
   "source": [
    "events.Properties.VariableNames"
   ]
  },
  {
   "cell_type": "markdown",
   "id": "55083eba-ee0d-466a-8232-e4ca53e6013d",
   "metadata": {},
   "source": [
    "We can also request to view columns by their row name"
   ]
  },
  {
   "cell_type": "code",
   "execution_count": null,
   "id": "0d1a0098-8c8c-4316-9831-6c41cb5f5726",
   "metadata": {},
   "outputs": [],
   "source": [
    "events(:,[\"Month\",\"Begin_Date_Time\",\"Property_Cost\",\"Crop_Cost\"])"
   ]
  },
  {
   "cell_type": "markdown",
   "id": "5d79216e-5615-43ee-a8d2-36aa441e591a",
   "metadata": {},
   "source": [
    "Some ofthe data contains missing data, encoded as `NaN`.  Here are some that contain missing `Property_Cost` data."
   ]
  },
  {
   "cell_type": "code",
   "execution_count": null,
   "id": "a33d2db8-80b2-401e-b84a-4723cb9b1912",
   "metadata": {},
   "outputs": [],
   "source": [
    "events(ismissing(events.Property_Cost),[\"Month\",\"Begin_Date_Time\",\"Property_Cost\",\"Crop_Cost\"])"
   ]
  },
  {
   "cell_type": "markdown",
   "id": "d8601035-b0b1-4551-836f-cd86c646d53c",
   "metadata": {
    "tags": []
   },
   "source": [
    "## Data Processing steps\n",
    "\n",
    "As you explore new data, you'll typically discover there is some \"clean-up\" to perform. Above, for example, we discovered that there was some missing data.  We'll do some clean up and a little more processing here"
   ]
  },
  {
   "cell_type": "code",
   "execution_count": null,
   "id": "4434b7e7-5983-4243-a1f4-bf10b82db26f",
   "metadata": {},
   "outputs": [],
   "source": [
    "% Put months in correct order\n",
    "monthOrder = [\"January\", \"February\", \"March\", \"April\", \"May\", \"June\", \"July\",...\n",
    "    \"August\", \"September\", \"October\", \"November\", \"December\"];\n",
    "events.Month = reordercats(events.Month, monthOrder);\n",
    "\n",
    "% Set missing Property and Crop Cost to $0\n",
    "events.Property_Cost(ismissing(events.Property_Cost)) = 0;\n",
    "events.Crop_Cost(ismissing(events.Crop_Cost)) = 0;\n",
    "\n",
    "% Add total damage to the table\n",
    "events.Total_Damage = events.Property_Cost + events.Crop_Cost;"
   ]
  },
  {
   "cell_type": "markdown",
   "id": "65c046eb-2211-4c07-95a1-1572be99c4b9",
   "metadata": {},
   "source": [
    "Description of code above\n",
    "\n",
    "* By default, the text in the \"Month\" variable of the table is ordered alphabetically. The code reorders the categories to match the calendar. This is not necessary but makes the visualizations easier to interpret. \n",
    "* Some events are missing information on the associated property and/or damage caused to property and crops. Missing cost is replaced with 0 as missing information likely means small or no damage to report.\n",
    "* A new variable named Total_Damage is added to the table. This variable is the sum of Property_Cost + Crop_Cost."
   ]
  },
  {
   "cell_type": "markdown",
   "id": "48b9f3cd-26fb-4adc-89d5-90464849dc6c",
   "metadata": {},
   "source": [
    "# Visualize the Locations of Tornadoes\n",
    "## Plot all tornados above a damage threshold\n",
    "\n",
    "The code below creates a plot of tornado locations on a map. The size of the markers represents the cost in dollars of the damage caused by the tornado. \n",
    "\n",
    "The `minDamage` variable represents minimum value for total damage of an event to be included in the plot. "
   ]
  },
  {
   "cell_type": "code",
   "execution_count": null,
   "id": "9a737c4b-6c07-4bb0-8b95-8b4cb57621d0",
   "metadata": {},
   "outputs": [],
   "source": [
    "minDamage = 0;    % modify this to change which tornados are included in the plot\n",
    "\n",
    "% Select tornadoes above a damage threshold set by the minDamage variable\n",
    "tornadoes = events(events.Event_Type == \"Tornado\" & events.Total_Damage >= minDamage, :);\n",
    "% Plot the results on a map\n",
    "geobubble(tornadoes.Begin_Lat,tornadoes.Begin_Lon,tornadoes.Total_Damage, tornadoes.Month);\n",
    "title(\"Tornadoes with cost >= $\" + minDamage)"
   ]
  },
  {
   "cell_type": "markdown",
   "id": "fb9ad5ef-65bb-423a-a271-9e3ca3fec130",
   "metadata": {},
   "source": [
    "## Plot tornadoes for a given month\n",
    "    \n",
    "Change the `eventMonth` variable and rerun the cell to observe how the number and location of tornadoes varies throughout the year. \n",
    "All tornadoes are treated as equal regardless of damage caused."
   ]
  },
  {
   "cell_type": "code",
   "execution_count": null,
   "id": "af3ee997-3d8e-4d98-a988-2a6817975e95",
   "metadata": {},
   "outputs": [],
   "source": [
    "eventMonth = \"June\";   % Change this and re-run the cell\n",
    "\n",
    "tornadoes = events(events.Event_Type == \"Tornado\", :);\n",
    "tornadoes = tornadoes(tornadoes.Month == eventMonth, :);\n",
    "geobubble(tornadoes.Begin_Lat,tornadoes.Begin_Lon);\n",
    "title(\"Tornadoes in the month of \" + eventMonth)"
   ]
  },
  {
   "cell_type": "markdown",
   "id": "f3e958bc-c835-404f-a66b-33b8e50151a2",
   "metadata": {},
   "source": [
    "# Calculate Group Summary Statistics\n",
    "\n",
    "## Create a histogram of tornado events\n",
    "\n",
    "In the section above, you may have noticed that some months have more tornadoes than others. This section creates a histogram to show the number of tornadoes by month.\n",
    "* Run this section. Which month has the most tornadoes? Is there a tornado season?"
   ]
  },
  {
   "cell_type": "code",
   "execution_count": null,
   "id": "a5b38298-ae4a-4829-a943-0766a03e1eba",
   "metadata": {},
   "outputs": [],
   "source": [
    "tornadoes = events(events.Event_Type == \"Tornado\",:);\n",
    "    \n",
    "%the tornadoes table has a huge number of columns which can be difficult to displaye, so we will just choose a few columns\n",
    "tornadoes(:,[\"Month\",\"Event_Type\",\"Begin_Date_Time\",\"Timezone\"])"
   ]
  },
  {
   "cell_type": "code",
   "execution_count": null,
   "id": "f2c66ffb-7e45-41da-ac3d-37ac7541c5ac",
   "metadata": {},
   "outputs": [],
   "source": [
    "histogram(tornadoes.Month);\n",
    "title(\"Tornados by Month\")\n",
    "xlabel(\"Month\")\n",
    "ylabel(\"Number of Tornadoes\")"
   ]
  },
  {
   "cell_type": "markdown",
   "id": "3e545789-ba1e-40f3-9462-142f33b869dd",
   "metadata": {},
   "source": [
    "# Total damage by month\n",
    "\n",
    "Looking at the histogram, the month of May had far more tornadoes than any other month. Now examine the damage caused by these tornadoes. \n",
    "\n",
    "Change the statistic and re-evaluate the cell"
   ]
  },
  {
   "cell_type": "code",
   "execution_count": null,
   "id": "871983bc-cfde-4252-93d3-1d81f40e73e8",
   "metadata": {},
   "outputs": [],
   "source": [
    "stat = \"Max\"   % Could also be \"Sum\", \"Mean\" or \"Max\"\n",
    "tornadoes = events(events.Event_Type == \"Tornado\",:);\n",
    "% Group tornadoes by month and calculate the selected stat\n",
    "cost = groupsummary(tornadoes, \"Month\", stat, \"Total_Damage\")\n",
    "\n",
    "% View the results using a bar chart\n",
    "bar(cost.Month, cost{:, end})\n",
    "title(stat + \" of tornado cost by month\")\n",
    "ylabel(\"Cost in dollars\")"
   ]
  },
  {
   "cell_type": "markdown",
   "id": "4c1c0975-fe05-4492-be1a-d413b183171f",
   "metadata": {},
   "source": [
    "# Closing Remarks\n",
    "\n",
    "Notice how quickly creating a variety of visualizations provided an overview of lots of data. What have you learned about tornadoes in the United States in 2013? Hopefully you gained a feel for the data. This is important later when trying to evaluate predictive models. Without a feel for the data, it's difficult to look at the output of a complex model and determine if the results are reasonable.\n",
    "\n",
    "For now, you can state that in 2013:\n",
    "\n",
    "* The frequency of tornadoes was less during the winter months than late spring/early summer\n",
    "* Winter tornadoes tend to be in the southern United States\n",
    "* An extremely damaging tornado occurred in November\n",
    "\n",
    "Maybe you have a lot more questions. For example, what states are most affected? What do the results look like for different years? This script just looks at tornadoes, what about all the other storm events? The fun, and challenging, aspect of having lots of data is trying to explore all the possible questions and relationships.\n",
    "\n",
    "## Want to learn more? Try our Coursera course. \n",
    "\n",
    "If you enjoyed this example and would like to learn more about data analysis in MATLAB, maybe try our Coursera course at https://www.coursera.org/learn/exploratory-data-analysis-matlab"
   ]
  }
 ],
 "metadata": {
  "kernelspec": {
   "display_name": "MATLAB Kernel",
   "language": "matlab",
   "name": "jupyter_matlab_kernel"
  },
  "language_info": {
   "file_extension": ".m",
   "mimetype": "text/x-matlab",
   "name": "matlab"
  }
 },
 "nbformat": 4,
 "nbformat_minor": 5
}
