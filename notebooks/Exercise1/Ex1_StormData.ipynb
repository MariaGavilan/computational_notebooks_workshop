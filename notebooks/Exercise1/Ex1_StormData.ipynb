{
 "cells": [
  {
   "cell_type": "markdown",
   "id": "e1bcb0e2-ec94-46a3-9fd2-7584e60ac49b",
   "metadata": {
    "tags": []
   },
   "source": [
    "# Explore and Analyze Tornadoes from 2013 using MATLAB in Jupyter\n",
    "\n",
    "## MATLAB in Jupyter\n",
    "\n",
    "Welcome to your first Jupyter Notebook running MATLAB as the kernel.  \n",
    "\n",
    "The only difference between this Jupyter notebook and ones you may have used before is that ALL of the code shown here is MATLAB code.  Everything else is **exactly the same** including\n",
    "\n",
    "* How you evaluate cells - Shift+Enter or CTRL+Enter\n",
    "* Double clicking on text cells (such as this one) to edit Markdown\n",
    "\n",
    "## Discussion of our problem\n",
    "\n",
    "Add context\n",
    "\n",
    "## Importing the data\n",
    "\n",
    "### Here we'll use a Parquet file\n",
    "\n",
    "The data is stored in the file `StormEvents.parquet` which is an example of a Parquet file. Parquet is in open-source column-oriented data storage format developed and maintained as a part of the Apache Software Foundation and is a great choice for 'Big Data' analysis. \n"
   ]
  },
  {
   "cell_type": "code",
   "execution_count": null,
   "id": "3821a872-2414-41b7-ade5-99aaa1897c78",
   "metadata": {},
   "outputs": [],
   "source": [
    "events = parquetread(\"/workspaces/computational_notebooks_workshop/data/StormEvents.parquet\");"
   ]
  },
  {
   "cell_type": "markdown",
   "id": "c1c9dcd2-f62b-4356-971f-ffb793b89fd4",
   "metadata": {},
   "source": [
    "The `parquetread` file creates a table from the file called `events` which is of size 59,985 rows and 16 columns which we can see for ourselves by running the following commands"
   ]
  },
  {
   "cell_type": "code",
   "execution_count": null,
   "id": "3385650c-56de-4386-a3a7-ce824c467605",
   "metadata": {},
   "outputs": [],
   "source": [
    "class(events)"
   ]
  },
  {
   "cell_type": "code",
   "execution_count": null,
   "id": "a7c1ceb3-171c-4bc4-a411-a9e4127eda65",
   "metadata": {},
   "outputs": [],
   "source": [
    "size(events)"
   ]
  },
  {
   "cell_type": "markdown",
   "id": "9f809013-7afb-4ccd-ad96-c8c48db6908e",
   "metadata": {},
   "source": [
    "Displaying such large tables in the notebook can be problematic, particularly when each row takes up multiple lines, so let's just look at the first 7 columns.  Note that only the first few rows are displayed"
   ]
  },
  {
   "cell_type": "code",
   "execution_count": null,
   "id": "92a5fd3c-a53e-4023-8292-bd16f59bf0b6",
   "metadata": {},
   "outputs": [],
   "source": [
    "events(:,[1:7])"
   ]
  },
  {
   "cell_type": "markdown",
   "id": "c408ec6e-1165-4f17-8857-31a4002c9ea3",
   "metadata": {},
   "source": [
    "The list of column headings can be found as follows"
   ]
  },
  {
   "cell_type": "code",
   "execution_count": null,
   "id": "5e22f692-5859-469f-9a07-f3ecbc1be8d4",
   "metadata": {},
   "outputs": [],
   "source": [
    "events.Properties.VariableNames"
   ]
  },
  {
   "cell_type": "markdown",
   "id": "55083eba-ee0d-466a-8232-e4ca53e6013d",
   "metadata": {},
   "source": [
    "We can also request to view columns by their row name"
   ]
  },
  {
   "cell_type": "code",
   "execution_count": null,
   "id": "0d1a0098-8c8c-4316-9831-6c41cb5f5726",
   "metadata": {},
   "outputs": [],
   "source": [
    "events(:,[\"Month\",\"Begin_Date_Time\",\"Property_Cost\",\"Crop_Cost\"])"
   ]
  },
  {
   "cell_type": "markdown",
   "id": "5d79216e-5615-43ee-a8d2-36aa441e591a",
   "metadata": {},
   "source": [
    "Some ofthe data contains missing data, encoded as `NaN`.  Here are some that contain missing `Property_Cost` data."
   ]
  },
  {
   "cell_type": "code",
   "execution_count": null,
   "id": "a33d2db8-80b2-401e-b84a-4723cb9b1912",
   "metadata": {},
   "outputs": [],
   "source": [
    "events(ismissing(events.Property_Cost),[\"Month\",\"Begin_Date_Time\",\"Property_Cost\",\"Crop_Cost\"])"
   ]
  },
  {
   "cell_type": "markdown",
   "id": "d8601035-b0b1-4551-836f-cd86c646d53c",
   "metadata": {
    "tags": []
   },
   "source": [
    "## Data Processing steps\n",
    "\n",
    "ADD CONTEXT"
   ]
  },
  {
   "cell_type": "code",
   "execution_count": null,
   "id": "4434b7e7-5983-4243-a1f4-bf10b82db26f",
   "metadata": {},
   "outputs": [],
   "source": [
    "% Put months in correct order\n",
    "monthOrder = [\"January\", \"February\", \"March\", \"April\", \"May\", \"June\", \"July\",...\n",
    "    \"August\", \"September\", \"October\", \"November\", \"December\"];\n",
    "events.Month = reordercats(events.Month, monthOrder);\n",
    "\n",
    "% Set missing Property and Crop Cost to $0\n",
    "events.Property_Cost(ismissing(events.Property_Cost)) = 0;\n",
    "events.Crop_Cost(ismissing(events.Crop_Cost)) = 0;\n",
    "\n",
    "% Add total damage to the table\n",
    "events.Total_Damage = events.Property_Cost + events.Crop_Cost;"
   ]
  },
  {
   "cell_type": "markdown",
   "id": "65c046eb-2211-4c07-95a1-1572be99c4b9",
   "metadata": {},
   "source": [
    "Description of code above\n",
    "\n",
    "* A\n",
    "* B\n",
    "* C"
   ]
  },
  {
   "cell_type": "markdown",
   "id": "48b9f3cd-26fb-4adc-89d5-90464849dc6c",
   "metadata": {},
   "source": [
    "# Visualize the Locations of Tornadoes\n",
    "## Plot all tornados above a damage threshold\n",
    "\n",
    "ADD CONTEXT "
   ]
  },
  {
   "cell_type": "code",
   "execution_count": null,
   "id": "9a737c4b-6c07-4bb0-8b95-8b4cb57621d0",
   "metadata": {},
   "outputs": [],
   "source": [
    "minDamage = 0;    % modify this to change which tornados are included in the plot\n",
    "\n",
    "% Select tornadoes above a damage threshold set by the minDamage variable\n",
    "tornadoes = events(events.Event_Type == \"Tornado\" & events.Total_Damage >= minDamage, :);\n",
    "% Plot the results on a map\n",
    "geobubble(tornadoes.Begin_Lat,tornadoes.Begin_Lon,tornadoes.Total_Damage, tornadoes.Month);\n",
    "title(\"Tornadoes with cost >= $\" + minDamage)"
   ]
  },
  {
   "cell_type": "code",
   "execution_count": null,
   "id": "af3ee997-3d8e-4d98-a988-2a6817975e95",
   "metadata": {},
   "outputs": [],
   "source": [
    "eventMonth = \"June\";   % Change this and re-run the cell\n",
    "\n",
    "tornadoes = events(events.Event_Type == \"Tornado\", :);\n",
    "tornadoes = tornadoes(tornadoes.Month == eventMonth, :);\n",
    "geobubble(tornadoes.Begin_Lat,tornadoes.Begin_Lon);\n",
    "title(\"Tornadoes in the month of \" + eventMonth)"
   ]
  },
  {
   "cell_type": "code",
   "execution_count": null,
   "id": "871983bc-cfde-4252-93d3-1d81f40e73e8",
   "metadata": {},
   "outputs": [],
   "source": [
    "% Total damage by month\n",
    "\n",
    "stat = \"Max\"   % Could also be \"Sum\", \"Mean\" or \"Max\"\n",
    "tornadoes = events(events.Event_Type == \"Tornado\",:);\n",
    "% Group tornadoes by month and calculate the selected stat\n",
    "cost = groupsummary(tornadoes, \"Month\", stat, \"Total_Damage\")\n",
    "\n",
    "% View the results using a bar chart\n",
    "bar(cost.Month, cost{:, end})\n",
    "title(stat + \" of tornado cost by month\")\n",
    "ylabel(\"Cost in dollars\")"
   ]
  }
 ],
 "metadata": {
  "kernelspec": {
   "display_name": "MATLAB Kernel",
   "language": "matlab",
   "name": "jupyter_matlab_kernel"
  },
  "language_info": {
   "file_extension": ".m",
   "mimetype": "text/x-matlab",
   "name": "matlab"
  }
 },
 "nbformat": 4,
 "nbformat_minor": 5
}
